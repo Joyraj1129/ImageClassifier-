{
 "cells": [
  {
   "cell_type": "code",
   "execution_count": 2,
   "id": "f25835c4",
   "metadata": {},
   "outputs": [],
   "source": [
    "# Description: This program classifies images \n"
   ]
  },
  {
   "cell_type": "code",
   "execution_count": 4,
   "id": "2cf6b405",
   "metadata": {},
   "outputs": [],
   "source": [
    "#libraries \n",
    "import tensorflow as tf \n",
    "from tensorflow import keras \n",
    "from keras.models import Sequential \n",
    "from keras.layers import Dense,Flatten,Conv2D,MaxPooling2D,Dropout\n",
    "from tensorflow.keras import layers \n",
    "from keras.utils import to_categorical \n",
    "import numpy as np \n",
    "import matplotlib.pyplot as plt \n",
    "plt.style.use('fivethirtyeight')"
   ]
  },
  {
   "cell_type": "code",
   "execution_count": 5,
   "id": "62294bfa",
   "metadata": {},
   "outputs": [],
   "source": [
    "#Load the data\n",
    "from keras.datasets import cifar10\n",
    "(X_train,y_train),(X_test,y_test)=cifar10.load_data()"
   ]
  },
  {
   "cell_type": "code",
   "execution_count": 6,
   "id": "90514b65",
   "metadata": {},
   "outputs": [
    {
     "name": "stdout",
     "output_type": "stream",
     "text": [
      "<class 'numpy.ndarray'>\n",
      "<class 'numpy.ndarray'>\n",
      "<class 'numpy.ndarray'>\n",
      "<class 'numpy.ndarray'>\n"
     ]
    }
   ],
   "source": [
    "print(type(X_train))\n",
    "print(type(X_test))\n",
    "print(type(y_train))\n",
    "print(type(y_test))"
   ]
  },
  {
   "cell_type": "code",
   "execution_count": 7,
   "id": "95541fed",
   "metadata": {},
   "outputs": [
    {
     "name": "stdout",
     "output_type": "stream",
     "text": [
      "x_train shape:  (50000, 32, 32, 3)\n",
      "y_train shape:  (50000, 1)\n",
      "x_test shape:  (10000, 32, 32, 3)\n",
      "y_test shape:  (10000, 1)\n"
     ]
    }
   ],
   "source": [
    "#Get the shape of the arrays \n",
    "print('x_train shape: ',X_train.shape)\n",
    "print('y_train shape: ',y_train.shape)\n",
    "print('x_test shape: ',X_test.shape)\n",
    "print('y_test shape: ',y_test.shape)"
   ]
  },
  {
   "cell_type": "code",
   "execution_count": 8,
   "id": "1954a6d8",
   "metadata": {},
   "outputs": [
    {
     "data": {
      "text/plain": [
       "array([[[53, 65, 53],\n",
       "        [54, 63, 52],\n",
       "        [56, 60, 50],\n",
       "        ...,\n",
       "        [47, 51, 50],\n",
       "        [41, 45, 44],\n",
       "        [24, 28, 27]],\n",
       "\n",
       "       [[46, 59, 41],\n",
       "        [53, 62, 45],\n",
       "        [54, 59, 44],\n",
       "        ...,\n",
       "        [42, 46, 45],\n",
       "        [39, 43, 42],\n",
       "        [28, 32, 31]],\n",
       "\n",
       "       [[45, 59, 38],\n",
       "        [50, 60, 41],\n",
       "        [46, 52, 34],\n",
       "        ...,\n",
       "        [38, 42, 41],\n",
       "        [36, 40, 39],\n",
       "        [29, 33, 32]],\n",
       "\n",
       "       ...,\n",
       "\n",
       "       [[71, 83, 66],\n",
       "        [74, 83, 66],\n",
       "        [80, 85, 67],\n",
       "        ...,\n",
       "        [51, 54, 33],\n",
       "        [46, 49, 34],\n",
       "        [49, 50, 41]],\n",
       "\n",
       "       [[75, 82, 67],\n",
       "        [79, 85, 69],\n",
       "        [81, 85, 67],\n",
       "        ...,\n",
       "        [61, 65, 41],\n",
       "        [64, 67, 48],\n",
       "        [48, 50, 41]],\n",
       "\n",
       "       [[85, 83, 71],\n",
       "        [85, 84, 71],\n",
       "        [86, 86, 70],\n",
       "        ...,\n",
       "        [61, 65, 39],\n",
       "        [64, 67, 46],\n",
       "        [49, 50, 41]]], dtype=uint8)"
      ]
     },
     "execution_count": 8,
     "metadata": {},
     "output_type": "execute_result"
    }
   ],
   "source": [
    "#Get the index of the image \n",
    "index = 10\n",
    "X_train[index]"
   ]
  },
  {
   "cell_type": "code",
   "execution_count": 9,
   "id": "024181f2",
   "metadata": {},
   "outputs": [
    {
     "data": {
      "image/png": "[encoded data removed]",
      "text/plain": [
       "<Figure size 432x288 with 1 Axes>"
      ]
     },
     "metadata": {},
     "output_type": "display_data"
    }
   ],
   "source": [
    "#Show the image as a picture \n",
    "img =plt.imshow(X_train[index])"
   ]
  },
  {
   "cell_type": "code",
   "execution_count": 10,
   "id": "5e891d2b",
   "metadata": {},
   "outputs": [
    {
     "name": "stdout",
     "output_type": "stream",
     "text": [
      "The image label is :  [4]\n"
     ]
    }
   ],
   "source": [
    "#Get the image label \n",
    "print('The image label is : ',y_train[index])"
   ]
  },
  {
   "cell_type": "code",
   "execution_count": 11,
   "id": "59400657",
   "metadata": {},
   "outputs": [
    {
     "name": "stdout",
     "output_type": "stream",
     "text": [
      "The image class is:  dog\n"
     ]
    }
   ],
   "source": [
    "#Get the image classification\n",
    "classification = ['airplane','automobile','bird','deer','dog','frog','horse','Ship','truck']\n",
    "#Print the image class \n",
    "print('The image class is: ',classification[y_train[index][0]])"
   ]
  },
  {
   "cell_type": "code",
   "execution_count": 12,
   "id": "1ec8ec7a",
   "metadata": {},
   "outputs": [],
   "source": [
    "#Convert the labels into a set of 10 numbers to input into the neural network\n",
    "y_train_one_hot = to_categorical(y_train)\n",
    "y_test_one_hot = to_categorical(y_test)"
   ]
  },
  {
   "cell_type": "code",
   "execution_count": 13,
   "id": "40e20c69",
   "metadata": {},
   "outputs": [
    {
     "name": "stdout",
     "output_type": "stream",
     "text": [
      "[[0. 0. 0. ... 0. 0. 0.]\n",
      " [0. 0. 0. ... 0. 0. 1.]\n",
      " [0. 0. 0. ... 0. 0. 1.]\n",
      " ...\n",
      " [0. 0. 0. ... 0. 0. 1.]\n",
      " [0. 1. 0. ... 0. 0. 0.]\n",
      " [0. 1. 0. ... 0. 0. 0.]]\n"
     ]
    }
   ],
   "source": [
    "#print the new labels \n",
    "print(y_train_one_hot)"
   ]
  },
  {
   "cell_type": "code",
   "execution_count": 14,
   "id": "ffffc01d",
   "metadata": {},
   "outputs": [
    {
     "name": "stdout",
     "output_type": "stream",
     "text": [
      "The one hot label is :  [0. 0. 0. 0. 1. 0. 0. 0. 0. 0.]\n"
     ]
    }
   ],
   "source": [
    "#print the new label of the image/picture above \n",
    "print('The one hot label is : ',y_train_one_hot[index])"
   ]
  },
  {
   "cell_type": "code",
   "execution_count": 15,
   "id": "cef748a9",
   "metadata": {},
   "outputs": [],
   "source": [
    "#Normalize the pixels between 0 and 1 \n",
    "X_train = X_train/255\n",
    "X_test = X_test/255"
   ]
  },
  {
   "cell_type": "code",
   "execution_count": 16,
   "id": "6abc7e9e",
   "metadata": {},
   "outputs": [
    {
     "data": {
      "text/plain": [
       "array([[[0.20784314, 0.25490196, 0.20784314],\n",
       "        [0.21176471, 0.24705882, 0.20392157],\n",
       "        [0.21960784, 0.23529412, 0.19607843],\n",
       "        ...,\n",
       "        [0.18431373, 0.2       , 0.19607843],\n",
       "        [0.16078431, 0.17647059, 0.17254902],\n",
       "        [0.09411765, 0.10980392, 0.10588235]],\n",
       "\n",
       "       [[0.18039216, 0.23137255, 0.16078431],\n",
       "        [0.20784314, 0.24313725, 0.17647059],\n",
       "        [0.21176471, 0.23137255, 0.17254902],\n",
       "        ...,\n",
       "        [0.16470588, 0.18039216, 0.17647059],\n",
       "        [0.15294118, 0.16862745, 0.16470588],\n",
       "        [0.10980392, 0.1254902 , 0.12156863]],\n",
       "\n",
       "       [[0.17647059, 0.23137255, 0.14901961],\n",
       "        [0.19607843, 0.23529412, 0.16078431],\n",
       "        [0.18039216, 0.20392157, 0.13333333],\n",
       "        ...,\n",
       "        [0.14901961, 0.16470588, 0.16078431],\n",
       "        [0.14117647, 0.15686275, 0.15294118],\n",
       "        [0.11372549, 0.12941176, 0.1254902 ]],\n",
       "\n",
       "       ...,\n",
       "\n",
       "       [[0.27843137, 0.3254902 , 0.25882353],\n",
       "        [0.29019608, 0.3254902 , 0.25882353],\n",
       "        [0.31372549, 0.33333333, 0.2627451 ],\n",
       "        ...,\n",
       "        [0.2       , 0.21176471, 0.12941176],\n",
       "        [0.18039216, 0.19215686, 0.13333333],\n",
       "        [0.19215686, 0.19607843, 0.16078431]],\n",
       "\n",
       "       [[0.29411765, 0.32156863, 0.2627451 ],\n",
       "        [0.30980392, 0.33333333, 0.27058824],\n",
       "        [0.31764706, 0.33333333, 0.2627451 ],\n",
       "        ...,\n",
       "        [0.23921569, 0.25490196, 0.16078431],\n",
       "        [0.25098039, 0.2627451 , 0.18823529],\n",
       "        [0.18823529, 0.19607843, 0.16078431]],\n",
       "\n",
       "       [[0.33333333, 0.3254902 , 0.27843137],\n",
       "        [0.33333333, 0.32941176, 0.27843137],\n",
       "        [0.3372549 , 0.3372549 , 0.2745098 ],\n",
       "        ...,\n",
       "        [0.23921569, 0.25490196, 0.15294118],\n",
       "        [0.25098039, 0.2627451 , 0.18039216],\n",
       "        [0.19215686, 0.19607843, 0.16078431]]])"
      ]
     },
     "execution_count": 16,
     "metadata": {},
     "output_type": "execute_result"
    }
   ],
   "source": [
    "X_train[index]"
   ]
  },
  {
   "cell_type": "code",
   "execution_count": 17,
   "id": "04405cb6",
   "metadata": {},
   "outputs": [],
   "source": [
    "#Creating a model \n",
    "model = Sequential()\n",
    "#Add first layer \n",
    "model.add(Conv2D(32,(5,5),activation = 'relu',input_shape=(32,32,3)))\n",
    "#Add a pooling layer\n",
    "model.add(MaxPooling2D(pool_size = (2,2)))\n",
    "#Add another convolution layer \n",
    "model.add(Conv2D(32,(5,5),activation='relu'))\n",
    "#Add another pooling layer \n",
    "model.add(MaxPooling2D(pool_size = (2,2)))\n",
    "#Add a Flattening layer\n",
    "model.add(Flatten())\n",
    "\n",
    "\n",
    "#Add a layer with 1000 neurons \n",
    "model.add(Dense(1000,activation = 'relu'))\n",
    "#Add a drop out layer \n",
    "model.add(Dropout(0.5))\n",
    "#Add a layer with 500 neurons \n",
    "model.add(Dense(500,activation = 'relu'))\n",
    "model.add(Dropout(0.5))\n",
    "#Add a layer with 250 neurons \n",
    "model.add(Dense(250,activation = 'relu'))\n",
    "#Add a layer with 10 neurons \n",
    "model.add(Dense(10,activation = 'softmax'))"
   ]
  },
  {
   "cell_type": "code",
   "execution_count": 19,
   "id": "db3752b7",
   "metadata": {},
   "outputs": [],
   "source": [
    "#Compile the model \n",
    "model.compile(loss = 'categorical_crossentropy',\n",
    "             optimizer = 'adam',\n",
    "             metrics = ['accuracy'])"
   ]
  },
  {
   "cell_type": "code",
   "execution_count": 20,
   "id": "07487c0b",
   "metadata": {},
   "outputs": [
    {
     "name": "stdout",
     "output_type": "stream",
     "text": [
      "Epoch 1/10\n",
      "157/157 [==============================] - 48s 300ms/step - loss: 1.7931 - accuracy: 0.3287 - val_loss: 1.4737 - val_accuracy: 0.4516\n",
      "Epoch 2/10\n",
      "157/157 [==============================] - 46s 295ms/step - loss: 1.4053 - accuracy: 0.4865 - val_loss: 1.3396 - val_accuracy: 0.5288\n",
      "Epoch 3/10\n",
      "157/157 [==============================] - 47s 298ms/step - loss: 1.2537 - accuracy: 0.5483 - val_loss: 1.2012 - val_accuracy: 0.5704\n",
      "Epoch 4/10\n",
      "157/157 [==============================] - 47s 302ms/step - loss: 1.1481 - accuracy: 0.5917 - val_loss: 1.1104 - val_accuracy: 0.6092\n",
      "Epoch 5/10\n",
      "157/157 [==============================] - 46s 296ms/step - loss: 1.0582 - accuracy: 0.6237 - val_loss: 1.1197 - val_accuracy: 0.6058\n",
      "Epoch 6/10\n",
      "157/157 [==============================] - 48s 305ms/step - loss: 0.9970 - accuracy: 0.6470 - val_loss: 1.0676 - val_accuracy: 0.6287\n",
      "Epoch 7/10\n",
      "157/157 [==============================] - 48s 303ms/step - loss: 0.9204 - accuracy: 0.6737 - val_loss: 0.9741 - val_accuracy: 0.6584\n",
      "Epoch 8/10\n",
      "157/157 [==============================] - 48s 303ms/step - loss: 0.8744 - accuracy: 0.6899 - val_loss: 0.9481 - val_accuracy: 0.6755\n",
      "Epoch 9/10\n",
      "157/157 [==============================] - 48s 305ms/step - loss: 0.8218 - accuracy: 0.7104 - val_loss: 0.9308 - val_accuracy: 0.6779\n",
      "Epoch 10/10\n",
      "157/157 [==============================] - 48s 306ms/step - loss: 0.7631 - accuracy: 0.7330 - val_loss: 0.9303 - val_accuracy: 0.6825\n"
     ]
    }
   ],
   "source": [
    "hist = model.fit(X_train,y_train_one_hot,\n",
    "                batch_size = 256,\n",
    "                epochs = 10,\n",
    "                validation_split = 0.2)"
   ]
  },
  {
   "cell_type": "code",
   "execution_count": 21,
   "id": "6f596a99",
   "metadata": {},
   "outputs": [
    {
     "name": "stdout",
     "output_type": "stream",
     "text": [
      "313/313 [==============================] - 4s 14ms/step - loss: 0.9465 - accuracy: 0.6741\n"
     ]
    },
    {
     "data": {
      "text/plain": [
       "0.6740999817848206"
      ]
     },
     "execution_count": 21,
     "metadata": {},
     "output_type": "execute_result"
    }
   ],
   "source": [
    "#Evaluate the model using th test data\n",
    "model.evaluate(X_test,y_test_one_hot)[1]"
   ]
  },
  {
   "cell_type": "code",
   "execution_count": 23,
   "id": "cd80f424",
   "metadata": {},
   "outputs": [
    {
     "data": {
      "image/png": "[encoded data removed]",
      "text/plain": [
       "<Figure size 432x288 with 1 Axes>"
      ]
     },
     "metadata": {},
     "output_type": "display_data"
    }
   ],
   "source": [
    "#Visualization of the model accuracy \n",
    "plt.plot(hist.history['accuracy'])\n",
    "plt.plot(hist.history['val_accuracy'])\n",
    "plt.title('Model Accuracy')\n",
    "plt.ylabel('Accuracy')\n",
    "plt.xlabel('Epoch')\n",
    "plt.legend(['Train','val'],loc ='upper left')\n",
    "plt.show()"
   ]
  },
  {
   "cell_type": "code",
   "execution_count": 24,
   "id": "6a0082de",
   "metadata": {},
   "outputs": [
    {
     "data": {
      "image/png": "[encoded data removed]",
      "text/plain": [
       "<Figure size 432x288 with 1 Axes>"
      ]
     },
     "metadata": {},
     "output_type": "display_data"
    }
   ],
   "source": [
    "#Visualization of models loss\n",
    "plt.plot(hist.history['loss'])\n",
    "plt.plot(hist.history['val_loss'])\n",
    "plt.title('Model Loss')\n",
    "plt.ylabel('Loss')\n",
    "plt.xlabel('Epoch')\n",
    "plt.legend(['Train','val'],loc ='upper right')\n",
    "plt.show()"
   ]
  },
  {
   "cell_type": "code",
   "execution_count": 25,
   "id": "3395ec38",
   "metadata": {},
   "outputs": [
    {
     "ename": "ModuleNotFoundError",
     "evalue": "No module named 'google.colab'",
     "output_type": "error",
     "traceback": [
      "\u001b[1;31m---------------------------------------------------------------------------\u001b[0m",
      "\u001b[1;31mModuleNotFoundError\u001b[0m                       Traceback (most recent call last)",
      "\u001b[1;32m<ipython-input-25-66aff82c6704>\u001b[0m in \u001b[0;36m<module>\u001b[1;34m\u001b[0m\n\u001b[0;32m      1\u001b[0m \u001b[1;31m#Test the model\u001b[0m\u001b[1;33m\u001b[0m\u001b[1;33m\u001b[0m\u001b[1;33m\u001b[0m\u001b[0m\n\u001b[1;32m----> 2\u001b[1;33m \u001b[1;32mfrom\u001b[0m \u001b[0mgoogle\u001b[0m\u001b[1;33m.\u001b[0m\u001b[0mcolab\u001b[0m \u001b[1;32mimport\u001b[0m \u001b[0mfiles\u001b[0m\u001b[1;33m\u001b[0m\u001b[1;33m\u001b[0m\u001b[0m\n\u001b[0m\u001b[0;32m      3\u001b[0m \u001b[0muploaded\u001b[0m \u001b[1;33m=\u001b[0m \u001b[0mfiles\u001b[0m\u001b[1;33m.\u001b[0m\u001b[0mupload\u001b[0m\u001b[1;33m\u001b[0m\u001b[1;33m\u001b[0m\u001b[0m\n",
      "\u001b[1;31mModuleNotFoundError\u001b[0m: No module named 'google.colab'"
     ]
    }
   ],
   "source": []
  },
  {
   "cell_type": "code",
   "execution_count": null,
   "id": "ac158287",
   "metadata": {},
   "outputs": [],
   "source": [
    "pip install google.colab"
   ]
  },
  {
   "cell_type": "code",
   "execution_count": null,
   "id": "1f38cc3d",
   "metadata": {},
   "outputs": [],
   "source": []
  }
 ],
 "metadata": {
  "kernelspec": {
   "display_name": "Python 3",
   "language": "python",
   "name": "python3"
  },
  "language_info": {
   "codemirror_mode": {
    "name": "ipython",
    "version": 3
   },
   "file_extension": ".py",
   "mimetype": "text/x-python",
   "name": "python",
   "nbconvert_exporter": "python",
   "pygments_lexer": "ipython3",
   "version": "3.8.8"
  }
 },
 "nbformat": 4,
 "nbformat_minor": 5
}
